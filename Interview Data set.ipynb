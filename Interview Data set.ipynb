import pandas as pd
import numpy as np
df =  pd.read_csv(r'dataset_00_with_header.csv')
df